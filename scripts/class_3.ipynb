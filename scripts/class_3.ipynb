{
 "cells": [
  {
   "cell_type": "markdown",
   "metadata": {},
   "source": [
    "#### Test - Exercise 4: Manhattan Distance"
   ]
  },
  {
   "cell_type": "code",
   "execution_count": 1,
   "metadata": {},
   "outputs": [
    {
     "name": "stdout",
     "output_type": "stream",
     "text": [
      "SI implementation:  [ 3 15]\n",
      "Sklearn:  [[ 3. 15.]]\n"
     ]
    }
   ],
   "source": [
    "from si.statistics.manhattan_distance import manhattan_distance\n",
    "\n",
    "import numpy as np\n",
    "\n",
    "\n",
    "x = np.array([5, 2, 7])\n",
    "y = np.array([[6, 3, 6], [1, 8, 2]])\n",
    "\n",
    "# SI implementation\n",
    "dist = manhattan_distance(x, y)\n",
    "\n",
    "# Sklearn\n",
    "from sklearn.metrics.pairwise import manhattan_distances\n",
    "sklearn_dist = manhattan_distances([x],y)\n",
    "\n",
    "print(\"SI implementation: \", dist)\n",
    "print(\"Sklearn: \", sklearn_dist)"
   ]
  },
  {
   "cell_type": "markdown",
   "metadata": {},
   "source": [
    "#### Exercise 5: PCA"
   ]
  },
  {
   "cell_type": "code",
   "execution_count": 2,
   "metadata": {},
   "outputs": [
    {
     "data": {
      "text/html": [
       "<div>\n",
       "<style scoped>\n",
       "    .dataframe tbody tr th:only-of-type {\n",
       "        vertical-align: middle;\n",
       "    }\n",
       "\n",
       "    .dataframe tbody tr th {\n",
       "        vertical-align: top;\n",
       "    }\n",
       "\n",
       "    .dataframe thead th {\n",
       "        text-align: right;\n",
       "    }\n",
       "</style>\n",
       "<table border=\"1\" class=\"dataframe\">\n",
       "  <thead>\n",
       "    <tr style=\"text-align: right;\">\n",
       "      <th></th>\n",
       "      <th>sepal_length</th>\n",
       "      <th>sepal_width</th>\n",
       "      <th>petal_length</th>\n",
       "      <th>petal_width</th>\n",
       "    </tr>\n",
       "  </thead>\n",
       "  <tbody>\n",
       "    <tr>\n",
       "      <th>mean</th>\n",
       "      <td>5.843333</td>\n",
       "      <td>3.054000</td>\n",
       "      <td>3.758667</td>\n",
       "      <td>1.198667</td>\n",
       "    </tr>\n",
       "    <tr>\n",
       "      <th>median</th>\n",
       "      <td>5.800000</td>\n",
       "      <td>3.000000</td>\n",
       "      <td>4.350000</td>\n",
       "      <td>1.300000</td>\n",
       "    </tr>\n",
       "    <tr>\n",
       "      <th>min</th>\n",
       "      <td>4.300000</td>\n",
       "      <td>2.000000</td>\n",
       "      <td>1.000000</td>\n",
       "      <td>0.100000</td>\n",
       "    </tr>\n",
       "    <tr>\n",
       "      <th>max</th>\n",
       "      <td>7.900000</td>\n",
       "      <td>4.400000</td>\n",
       "      <td>6.900000</td>\n",
       "      <td>2.500000</td>\n",
       "    </tr>\n",
       "    <tr>\n",
       "      <th>var</th>\n",
       "      <td>0.681122</td>\n",
       "      <td>0.186751</td>\n",
       "      <td>3.092425</td>\n",
       "      <td>0.578532</td>\n",
       "    </tr>\n",
       "  </tbody>\n",
       "</table>\n",
       "</div>"
      ],
      "text/plain": [
       "        sepal_length  sepal_width  petal_length  petal_width\n",
       "mean        5.843333     3.054000      3.758667     1.198667\n",
       "median      5.800000     3.000000      4.350000     1.300000\n",
       "min         4.300000     2.000000      1.000000     0.100000\n",
       "max         7.900000     4.400000      6.900000     2.500000\n",
       "var         0.681122     0.186751      3.092425     0.578532"
      ]
     },
     "execution_count": 2,
     "metadata": {},
     "output_type": "execute_result"
    }
   ],
   "source": [
    "from si.decomposition.pca import PCA\n",
    "\n",
    "from si.io.csv_file import read_csv\n",
    "\n",
    "iris = read_csv('../datasets/iris/iris.csv', features=True, label=True)\n",
    "iris.summary()"
   ]
  },
  {
   "cell_type": "code",
   "execution_count": 5,
   "metadata": {},
   "outputs": [
    {
     "name": "stdout",
     "output_type": "stream",
     "text": [
      "Mean [5.84333333 3.054      3.75866667 1.19866667]\n",
      "Components [[ 0.36158968 -0.08226889]\n",
      " [-0.65653988 -0.72971237]\n",
      " [ 0.58099728 -0.59641809]\n",
      " [ 0.31725455 -0.32409435]]\n",
      "Explained variance [4.22484077 0.24224357]\n",
      "Mean sklearn [5.84333333 3.054      3.75866667 1.19866667]\n",
      "Components sklearn [[ 0.36158968 -0.08226889  0.85657211  0.35884393]\n",
      " [ 0.65653988  0.72971237 -0.1757674  -0.07470647]]\n",
      "Explained variance sklearn [4.22484077 0.24224357]\n"
     ]
    }
   ],
   "source": [
    "pca = PCA(n_components=2)\n",
    "pca.fit_transform(iris)\n",
    "\n",
    "print('Mean', pca.mean)\n",
    "print('Components', pca.components)\n",
    "print('Explained variance', pca.explained_variance)\n",
    "\n",
    "\n",
    "from sklearn.decomposition import PCA as SklearnPCA\n",
    "\n",
    "sklearn_pca = SklearnPCA(n_components=2)\n",
    "sklearn_pca.fit_transform(iris.X)\n",
    "\n",
    "\n",
    "print('Mean sklearn', sklearn_pca.mean_)\n",
    "print('Components sklearn', sklearn_pca.components_)\n",
    "print('Explained variance sklearn', sklearn_pca.explained_variance_)"
   ]
  }
 ],
 "metadata": {
  "kernelspec": {
   "display_name": "Python 3",
   "language": "python",
   "name": "python3"
  },
  "language_info": {
   "codemirror_mode": {
    "name": "ipython",
    "version": 3
   },
   "file_extension": ".py",
   "mimetype": "text/x-python",
   "name": "python",
   "nbconvert_exporter": "python",
   "pygments_lexer": "ipython3",
   "version": "3.10.12"
  },
  "orig_nbformat": 4
 },
 "nbformat": 4,
 "nbformat_minor": 2
}
