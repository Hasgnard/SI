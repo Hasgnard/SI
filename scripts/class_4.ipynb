{
 "cells": [
  {
   "cell_type": "markdown",
   "metadata": {},
   "source": [
    "#### Exercise 6 - Test the \"stratified_train_test_split\" function with the iris dataset"
   ]
  },
  {
   "cell_type": "code",
   "execution_count": 2,
   "metadata": {},
   "outputs": [
    {
     "data": {
      "text/html": [
       "<div>\n",
       "<style scoped>\n",
       "    .dataframe tbody tr th:only-of-type {\n",
       "        vertical-align: middle;\n",
       "    }\n",
       "\n",
       "    .dataframe tbody tr th {\n",
       "        vertical-align: top;\n",
       "    }\n",
       "\n",
       "    .dataframe thead th {\n",
       "        text-align: right;\n",
       "    }\n",
       "</style>\n",
       "<table border=\"1\" class=\"dataframe\">\n",
       "  <thead>\n",
       "    <tr style=\"text-align: right;\">\n",
       "      <th></th>\n",
       "      <th>sepal_length</th>\n",
       "      <th>sepal_width</th>\n",
       "      <th>petal_length</th>\n",
       "      <th>petal_width</th>\n",
       "    </tr>\n",
       "  </thead>\n",
       "  <tbody>\n",
       "    <tr>\n",
       "      <th>mean</th>\n",
       "      <td>5.843333</td>\n",
       "      <td>3.054000</td>\n",
       "      <td>3.758667</td>\n",
       "      <td>1.198667</td>\n",
       "    </tr>\n",
       "    <tr>\n",
       "      <th>median</th>\n",
       "      <td>5.800000</td>\n",
       "      <td>3.000000</td>\n",
       "      <td>4.350000</td>\n",
       "      <td>1.300000</td>\n",
       "    </tr>\n",
       "    <tr>\n",
       "      <th>min</th>\n",
       "      <td>4.300000</td>\n",
       "      <td>2.000000</td>\n",
       "      <td>1.000000</td>\n",
       "      <td>0.100000</td>\n",
       "    </tr>\n",
       "    <tr>\n",
       "      <th>max</th>\n",
       "      <td>7.900000</td>\n",
       "      <td>4.400000</td>\n",
       "      <td>6.900000</td>\n",
       "      <td>2.500000</td>\n",
       "    </tr>\n",
       "    <tr>\n",
       "      <th>var</th>\n",
       "      <td>0.681122</td>\n",
       "      <td>0.186751</td>\n",
       "      <td>3.092425</td>\n",
       "      <td>0.578532</td>\n",
       "    </tr>\n",
       "  </tbody>\n",
       "</table>\n",
       "</div>"
      ],
      "text/plain": [
       "        sepal_length  sepal_width  petal_length  petal_width\n",
       "mean        5.843333     3.054000      3.758667     1.198667\n",
       "median      5.800000     3.000000      4.350000     1.300000\n",
       "min         4.300000     2.000000      1.000000     0.100000\n",
       "max         7.900000     4.400000      6.900000     2.500000\n",
       "var         0.681122     0.186751      3.092425     0.578532"
      ]
     },
     "execution_count": 2,
     "metadata": {},
     "output_type": "execute_result"
    }
   ],
   "source": [
    "from si.model_selection.split import train_test_split\n",
    "from si.model_selection.split import stratified_train_test_split\n",
    "\n",
    "from si.io.csv_file import read_csv\n",
    "\n",
    "iris = read_csv('../datasets/iris/iris.csv', features=True, label=True)\n",
    "iris.summary()"
   ]
  },
  {
   "cell_type": "code",
   "execution_count": 9,
   "metadata": {},
   "outputs": [
    {
     "name": "stdout",
     "output_type": "stream",
     "text": [
      "['Iris-setosa' 'Iris-versicolor' 'Iris-virginica']\n",
      "[50 50 50]\n",
      "[0.33333333 0.33333333 0.33333333]\n"
     ]
    }
   ],
   "source": [
    "import numpy as np\n",
    "\n",
    "labels, counts = np.unique(iris.y, return_counts=True)\n",
    "print(labels)\n",
    "print(counts)\n",
    "# count in percentage\n",
    "print(counts / len(iris.y))\n"
   ]
  },
  {
   "cell_type": "code",
   "execution_count": 23,
   "metadata": {},
   "outputs": [
    {
     "name": "stdout",
     "output_type": "stream",
     "text": [
      "Stratified train split:\n",
      "['Iris-setosa' 'Iris-versicolor' 'Iris-virginica']\n",
      "[35 35 35]\n",
      "[0.33333333 0.33333333 0.33333333] \n",
      "\n",
      "non Stratifeid Train split:\n",
      "['Iris-setosa' 'Iris-versicolor' 'Iris-virginica']\n",
      "[31 37 37]\n",
      "[0.2952381  0.35238095 0.35238095] \n",
      " \n",
      "\n",
      "Stratified Test split:\n",
      "['Iris-setosa' 'Iris-versicolor' 'Iris-virginica']\n",
      "[15 15 15]\n",
      "[0.33333333 0.33333333 0.33333333] \n",
      "\n",
      "non stratified test split:\n",
      "['Iris-setosa' 'Iris-versicolor' 'Iris-virginica']\n",
      "[19 13 13]\n",
      "[0.42222222 0.28888889 0.28888889]\n"
     ]
    }
   ],
   "source": [
    "# stratified train test split\n",
    "s_iris_train, s_iris_test = stratified_train_test_split(dataset=iris, test_size = 0.3, random_state=42)\n",
    "s_labels, s_counts = np.unique(s_iris_train.y, return_counts=True)\n",
    "st_labels, st_counts = np.unique(s_iris_test.y, return_counts=True)\n",
    "# non stratified train test split\n",
    "iris_train, iris_test = train_test_split(dataset=iris, test_size = 0.3, random_state=42)\n",
    "labels, counts = np.unique(iris_train.y, return_counts=True)\n",
    "tlabels, tcounts = np.unique(iris_test.y, return_counts=True)\n",
    "\n",
    "print('Stratified train split:')\n",
    "print(s_labels)\n",
    "print(s_counts)\n",
    "print(s_counts / len(s_iris_train.y), \"\\n\")\n",
    "print(\"non Stratifeid Train split:\")\n",
    "print(labels)\n",
    "print(counts)\n",
    "print(counts / len(iris_train.y), \"\\n\", \"\\n\")\n",
    "\n",
    "print(\"Stratified Test split:\")\n",
    "print(st_labels)\n",
    "print(st_counts)\n",
    "print(st_counts / len(s_iris_test.y), \"\\n\")\n",
    "print('non stratified test split:')\n",
    "print(tlabels)\n",
    "print(tcounts)\n",
    "print(tcounts / len(iris_test.y))\n",
    "\n"
   ]
  },
  {
   "cell_type": "markdown",
   "metadata": {},
   "source": [
    "#### Exercise 7 - Test the \"KNNRegressor\" class using the \"cpu.csv\" dataset (regression)."
   ]
  },
  {
   "cell_type": "code",
   "execution_count": 3,
   "metadata": {},
   "outputs": [],
   "source": [
    "cpu = read_csv('../datasets/cpu/cpu.csv', features=True, label=True)"
   ]
  },
  {
   "cell_type": "code",
   "execution_count": 13,
   "metadata": {},
   "outputs": [
    {
     "name": "stdout",
     "output_type": "stream",
     "text": [
      "The RMSE of the model is: 135.8292795753705\n"
     ]
    }
   ],
   "source": [
    "from si.models.knn_regressor import KNNRegressor\n",
    "\n",
    "data_train, data_test = train_test_split(dataset=cpu, test_size=0.30, random_state=42)\n",
    "\n",
    "knn = KNNRegressor(k=3)\n",
    "\n",
    "knn.fit(data_train)\n",
    "\n",
    "\n",
    "score = knn.score(data_test)\n",
    "\n",
    "print('The RMSE of the model is:', score)"
   ]
  },
  {
   "cell_type": "markdown",
   "metadata": {},
   "source": [
    "##### sklearn KNNRegressor"
   ]
  },
  {
   "cell_type": "code",
   "execution_count": 12,
   "metadata": {},
   "outputs": [
    {
     "name": "stdout",
     "output_type": "stream",
     "text": [
      "The RMSE of the model is: 138.72569695775826\n"
     ]
    }
   ],
   "source": [
    "from sklearn.neighbors import KNeighborsRegressor\n",
    "from sklearn.metrics import mean_squared_error\n",
    "\n",
    "data_train, data_test = train_test_split(dataset=cpu, test_size=0.30, random_state=42)\n",
    "\n",
    "knn = KNeighborsRegressor(n_neighbors=3)\n",
    "\n",
    "knn.fit(data_train.X, data_train.y)\n",
    "\n",
    "score = mean_squared_error(data_test.y, knn.predict(data_test.X), squared=False)\n",
    "\n",
    "print('The RMSE of the model is:', score)"
   ]
  }
 ],
 "metadata": {
  "kernelspec": {
   "display_name": "Python 3",
   "language": "python",
   "name": "python3"
  },
  "language_info": {
   "codemirror_mode": {
    "name": "ipython",
    "version": 3
   },
   "file_extension": ".py",
   "mimetype": "text/x-python",
   "name": "python",
   "nbconvert_exporter": "python",
   "pygments_lexer": "ipython3",
   "version": "3.10.12"
  }
 },
 "nbformat": 4,
 "nbformat_minor": 2
}
