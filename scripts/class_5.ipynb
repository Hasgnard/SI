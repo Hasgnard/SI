{
 "cells": [
  {
   "cell_type": "markdown",
   "metadata": {},
   "source": [
    "#### Exercise 8 - Testing RidgeRegression with Least Squares implementation"
   ]
  },
  {
   "cell_type": "code",
   "execution_count": 1,
   "metadata": {},
   "outputs": [],
   "source": [
    "import numpy as np\n",
    "from si.io.csv_file import read_csv\n",
    "from si.data.dataset import Dataset\n",
    "from si.models.ridge_regression_least_squares import RidgeRegressionLeastSquares\n",
    "from si.metrics.mse import mse\n",
    "import pandas as pd\n",
    "from sklearn.linear_model import Ridge\n"
   ]
  },
  {
   "cell_type": "code",
   "execution_count": 2,
   "metadata": {},
   "outputs": [],
   "source": [
    "cpu = read_csv('../datasets/cpu/cpu.csv', features=True, label=True)\n",
    "\n",
    "dataset = cpu"
   ]
  },
  {
   "cell_type": "code",
   "execution_count": 3,
   "metadata": {},
   "outputs": [
    {
     "name": "stdout",
     "output_type": "stream",
     "text": [
      "Theta value: [12.48809072 58.902124   64.91145823 25.9868963  -1.48080797 38.23854302]\n",
      "Theta 0 value: 105.61722488038275\n",
      "MSE score: 3478.690790318448\n"
     ]
    }
   ],
   "source": [
    "model = RidgeRegressionLeastSquares()\n",
    "model.fit(dataset)\n",
    "print('Theta value:', model.theta)\n",
    "print('Theta 0 value:', model.theta_zero)\n",
    "\n",
    "print('MSE score:', model.score(dataset))"
   ]
  },
  {
   "cell_type": "code",
   "execution_count": 6,
   "metadata": {},
   "outputs": [
    {
     "name": "stdout",
     "output_type": "stream",
     "text": [
      "Theta value: [12.48809072 58.902124   64.91145823 25.9868963  -1.48080797 38.23854302]\n",
      "Theta 0 value: 105.61722488038278\n",
      "MSE score: 3478.6907903184474\n"
     ]
    }
   ],
   "source": [
    "skmodel = Ridge()\n",
    "\n",
    "X = (dataset.X - np.nanmean(dataset.X, axis=0)) / np.nanstd(dataset.X, axis=0)\n",
    "skmodel.fit(X, dataset.y)\n",
    "print('Theta value:', skmodel.coef_)\n",
    "print('Theta 0 value:', skmodel.intercept_)\n",
    "print('MSE score:', mse(dataset.y, skmodel.predict(X)))"
   ]
  }
 ],
 "metadata": {
  "kernelspec": {
   "display_name": "Python 3",
   "language": "python",
   "name": "python3"
  },
  "language_info": {
   "codemirror_mode": {
    "name": "ipython",
    "version": 3
   },
   "file_extension": ".py",
   "mimetype": "text/x-python",
   "name": "python",
   "nbconvert_exporter": "python",
   "pygments_lexer": "ipython3",
   "version": "3.11.3"
  }
 },
 "nbformat": 4,
 "nbformat_minor": 2
}
