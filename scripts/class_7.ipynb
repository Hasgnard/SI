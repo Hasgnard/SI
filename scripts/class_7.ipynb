{
 "cells": [
  {
   "cell_type": "markdown",
   "metadata": {},
   "source": [
    "#### Exercise 9 - Test RandomForestClassifier"
   ]
  },
  {
   "cell_type": "code",
   "execution_count": 8,
   "metadata": {},
   "outputs": [
    {
     "name": "stdout",
     "output_type": "stream",
     "text": [
      "SI implementation: 0.9795918367346939\n",
      "sklearn implementation: 0.9795918367346939\n"
     ]
    }
   ],
   "source": [
    "from si.io.csv_file import read_csv\n",
    "from si.model_selection.split import train_test_split\n",
    "from si.models.random_forest_classifier import RandomForestClassifier\n",
    "\n",
    "data = read_csv('../datasets/iris/iris.csv', sep=',', features=True, label=True)\n",
    "train, test = train_test_split(data, test_size=0.33, random_state=42)\n",
    "model = RandomForestClassifier(min_sample_split=3, max_depth=3, mode='gini', n_estimators=5)\n",
    "model.fit(train)\n",
    "print('SI implementation:', model.score(test))\n",
    "\n",
    "\n",
    "from sklearn.ensemble import RandomForestClassifier as RFC\n",
    "\n",
    "model = RFC(n_estimators=5, max_depth=3, min_samples_split=3)\n",
    "model.fit(train.X, train.y)\n",
    "print('sklearn implementation:', model.score(test.X, test.y))"
   ]
  },
  {
   "cell_type": "markdown",
   "metadata": {},
   "source": [
    "#### Exercise 10 - Test Stacking Classifier ensemble"
   ]
  },
  {
   "cell_type": "code",
   "execution_count": 11,
   "metadata": {},
   "outputs": [
    {
     "name": "stdout",
     "output_type": "stream",
     "text": [
      "SI implementation: 0.9784172661870504\n",
      "sklearn implementation: 0.9856115107913669\n"
     ]
    }
   ],
   "source": [
    "from si.io.csv_file import read_csv\n",
    "from si.model_selection.split import stratified_train_test_split\n",
    "from si.models.knn_classifier import KNNClassifier\n",
    "from si.models.logistic_regression import LogisticRegression\n",
    "from si.models.decision_tree_classifier import DecisionTreeClassifier\n",
    "from si.ensemble.stacking_classifier import StackingClassifier\n",
    "from si.metrics.accuracy import accuracy\n",
    "from si.data.dataset import Dataset\n",
    "\n",
    "\n",
    "data = read_csv('../datasets/breast_bin/breast-bin.csv', sep=\",\",features=True,label=True)\n",
    "train, test = stratified_train_test_split(data, test_size=0.20, random_state=42)\n",
    "\n",
    "#knnregressor\n",
    "knn = KNNClassifier(k=5)\n",
    "\n",
    "#logistic regression\n",
    "lr=LogisticRegression(l2_penalty=0.1, alpha=0.1, max_iter=1000)\n",
    "\n",
    "#decisiontreee\n",
    "dt=DecisionTreeClassifier(min_sample_split=2, max_depth=10, mode='gini')\n",
    "\n",
    "#final model\n",
    "final_model=KNNClassifier(k=5)\n",
    "modelos=[knn,lr,dt]\n",
    "exercise=StackingClassifier(modelos,final_model)\n",
    "exercise.fit(train)\n",
    "print('SI implementation:', exercise.score(test))\n",
    "\n",
    "#sklearn\n",
    "from sklearn.ensemble import StackingClassifier as StackingClassifier_sklearn\n",
    "from sklearn.neighbors import KNeighborsClassifier\n",
    "from sklearn.linear_model import LogisticRegression\n",
    "from sklearn.tree import DecisionTreeClassifier\n",
    "\n",
    "#knnregressor\n",
    "knn = KNeighborsClassifier(n_neighbors=5)\n",
    "\n",
    "#logistic regression\n",
    "lr=LogisticRegression(penalty='l2', C=0.1, max_iter=1000)\n",
    "\n",
    "#decisiontreee\n",
    "dt=DecisionTreeClassifier(min_samples_split=2, max_depth=10, criterion='gini')\n",
    "\n",
    "#final model\n",
    "final_model=KNeighborsClassifier(n_neighbors=5)\n",
    "models=[('knn',knn),('lr',lr),('dt',dt)]\n",
    "exercise=StackingClassifier_sklearn(estimators=models,final_estimator=final_model)\n",
    "exercise.fit(train.X, train.y)\n",
    "print('sklearn implementation:', accuracy(test.y, exercise.predict(test.X)))"
   ]
  },
  {
   "cell_type": "markdown",
   "metadata": {},
   "source": [
    "#### Exercise11 - Test randomized_search_cv function."
   ]
  },
  {
   "cell_type": "code",
   "execution_count": 4,
   "metadata": {},
   "outputs": [
    {
     "name": "stdout",
     "output_type": "stream",
     "text": [
      "cv: 5\n",
      "cv: 5\n",
      "cv: 5\n",
      "cv: 5\n",
      "cv: 5\n",
      "cv: 5\n",
      "cv: 5\n",
      "cv: 5\n",
      "cv: 5\n",
      "cv: 5\n",
      "cv: 5\n",
      "cv: 5\n",
      "cv: 5\n",
      "cv: 5\n",
      "cv: 5\n",
      "cv: 5\n",
      "cv: 5\n",
      "cv: 5\n",
      "cv: 5\n",
      "cv: 5\n",
      "Grid search results:\n",
      "\n",
      "Best score:\n",
      " 0.9683453237410072\n",
      "\n",
      "Best hyperparameters:\n",
      " {'l2_penalty': 9.0, 'alpha': 0.0004909090909090909, 'max_iter': 1296.4824120603016}\n",
      "\n",
      "All scores:\n",
      " [[0.9784172661870504, 0.9424460431654677, 0.9640287769784173, 0.9856115107913669, 0.9640287769784173], [0.9640287769784173, 0.9784172661870504, 0.9640287769784173, 0.9568345323741008, 0.9712230215827338], [0.9568345323741008, 0.9640287769784173, 0.9712230215827338, 0.9640287769784173, 0.9784172661870504], [0.9640287769784173, 0.9640287769784173, 0.9856115107913669, 0.9568345323741008, 0.9640287769784173], [0.9784172661870504, 0.9712230215827338, 0.9640287769784173, 0.9568345323741008, 0.9640287769784173], [0.9784172661870504, 0.9568345323741008, 0.9640287769784173, 0.9568345323741008, 0.9784172661870504], [0.9712230215827338, 0.9712230215827338, 0.9568345323741008, 0.9928057553956835, 0.9496402877697842], [0.9712230215827338, 0.9928057553956835, 0.9712230215827338, 0.935251798561151, 0.9640287769784173], [0.9568345323741008, 0.9640287769784173, 0.9640287769784173, 0.9856115107913669, 0.9712230215827338], [0.9784172661870504, 0.9568345323741008, 0.9784172661870504, 0.9640287769784173, 0.9568345323741008]]\n",
      "\n",
      "All hyperparameters:\n",
      " [{'l2_penalty': 6.0, 'alpha': 0.0004272727272727273, 'max_iter': 1733.6683417085428}, {'l2_penalty': 3.0, 'alpha': 0.00017272727272727275, 'max_iter': 1924.6231155778896}, {'l2_penalty': 8.0, 'alpha': 0.0008545454545454546, 'max_iter': 1537.6884422110552}, {'l2_penalty': 3.0, 'alpha': 0.00017272727272727275, 'max_iter': 1854.2713567839196}, {'l2_penalty': 7.0, 'alpha': 0.0008545454545454546, 'max_iter': 1291.4572864321608}, {'l2_penalty': 9.0, 'alpha': 0.0008818181818181819, 'max_iter': 1221.105527638191}, {'l2_penalty': 9.0, 'alpha': 0.0004909090909090909, 'max_iter': 1296.4824120603016}, {'l2_penalty': 5.0, 'alpha': 0.0006272727272727273, 'max_iter': 1638.1909547738694}, {'l2_penalty': 2.0, 'alpha': 0.00023636363636363633, 'max_iter': 1070.3517587939698}, {'l2_penalty': 8.0, 'alpha': 0.0009454545454545454, 'max_iter': 1648.2412060301508}]\n"
     ]
    }
   ],
   "source": [
    "from si.models.logistic_regression import LogisticRegression\n",
    "# from si.model_selection.grid_search import grid_search_cv\n",
    "from si.io.csv_file import read_csv\n",
    "from si.model_selection.randomized_search import randomized_search_cv\n",
    "import numpy as np \n",
    "\n",
    "\n",
    "# load the dataset\n",
    "dataset = read_csv('../datasets/breast_bin/breast-bin.csv', sep=\",\",features=True,label=True)\n",
    "\n",
    "# define the model\n",
    "model = LogisticRegression()\n",
    "\n",
    "# define the hyperparameter grid\n",
    "hyperparameter_grid = {'l2_penalty': np.linspace(1, 10, 10),\n",
    "                        'alpha': np.linspace(0.001, 0.0001, 100),\n",
    "                        'max_iter': np.linspace(1000, 2000, 200),\n",
    "                        }\n",
    "# print(hyperparameter_grid)\n",
    "\n",
    "# perform grid search cross validation\n",
    "results = randomized_search_cv(model=model, dataset=dataset, hyperparameter_grid=hyperparameter_grid, cv=5, n_iter=10)\n",
    "\n",
    "# print the results\n",
    "print('Grid search results:\\n')\n",
    "print(f'Best score:\\n {results[\"best_score\"]}')\n",
    "print()\n",
    "print(f'Best hyperparameters:\\n {results[\"best_hyperparameters\"]}')\n",
    "print()\n",
    "print(f'All scores:\\n {results[\"scores\"]}')\n",
    "print()\n",
    "print(f'All hyperparameters:\\n {results[\"hyperparameters\"]}')"
   ]
  }
 ],
 "metadata": {
  "kernelspec": {
   "display_name": "Python 3",
   "language": "python",
   "name": "python3"
  },
  "language_info": {
   "codemirror_mode": {
    "name": "ipython",
    "version": 3
   },
   "file_extension": ".py",
   "mimetype": "text/x-python",
   "name": "python",
   "nbconvert_exporter": "python",
   "pygments_lexer": "ipython3",
   "version": "3.11.3"
  }
 },
 "nbformat": 4,
 "nbformat_minor": 2
}
